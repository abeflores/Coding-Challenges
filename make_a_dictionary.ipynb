{
 "cells": [
  {
   "cell_type": "code",
   "execution_count": 3,
   "metadata": {},
   "outputs": [],
   "source": [
    "import pandas as pd\n",
    "\n",
    "current_customers = {'Company Name': ['Tesla','Google', 'Meta', 'Apple', 'Amazon'],\n",
    "                     'Main Contact': ['Elon Musk','Sundar Pichai','Mark Zuckerberg', \n",
    "                                       'Tim Cook', 'Jeff Bezos'],\n",
    "                     'LY Sales': [325000, 275000, 225000, 400000, 350000],\n",
    "                     'Years of Operation': [4, 3, 5, 2, 1]}\n",
    "\n",
    "rel_customers = pd.DataFrame.from_dict(current_customers)"
   ]
  },
  {
   "cell_type": "code",
   "execution_count": 4,
   "metadata": {},
   "outputs": [
    {
     "data": {
      "text/html": [
       "<div>\n",
       "<style scoped>\n",
       "    .dataframe tbody tr th:only-of-type {\n",
       "        vertical-align: middle;\n",
       "    }\n",
       "\n",
       "    .dataframe tbody tr th {\n",
       "        vertical-align: top;\n",
       "    }\n",
       "\n",
       "    .dataframe thead th {\n",
       "        text-align: right;\n",
       "    }\n",
       "</style>\n",
       "<table border=\"1\" class=\"dataframe\">\n",
       "  <thead>\n",
       "    <tr style=\"text-align: right;\">\n",
       "      <th></th>\n",
       "      <th>Company Name</th>\n",
       "      <th>Main Contact</th>\n",
       "      <th>LY Sales</th>\n",
       "      <th>Years of Operation</th>\n",
       "    </tr>\n",
       "  </thead>\n",
       "  <tbody>\n",
       "    <tr>\n",
       "      <th>0</th>\n",
       "      <td>Tesla</td>\n",
       "      <td>Elon Musk</td>\n",
       "      <td>325000</td>\n",
       "      <td>4</td>\n",
       "    </tr>\n",
       "    <tr>\n",
       "      <th>1</th>\n",
       "      <td>Google</td>\n",
       "      <td>Sundar Pichai</td>\n",
       "      <td>275000</td>\n",
       "      <td>3</td>\n",
       "    </tr>\n",
       "    <tr>\n",
       "      <th>2</th>\n",
       "      <td>Meta</td>\n",
       "      <td>Mark Zuckerberg</td>\n",
       "      <td>225000</td>\n",
       "      <td>5</td>\n",
       "    </tr>\n",
       "    <tr>\n",
       "      <th>3</th>\n",
       "      <td>Apple</td>\n",
       "      <td>Tim Cook</td>\n",
       "      <td>400000</td>\n",
       "      <td>2</td>\n",
       "    </tr>\n",
       "    <tr>\n",
       "      <th>4</th>\n",
       "      <td>Amazon</td>\n",
       "      <td>Jeff Bezos</td>\n",
       "      <td>350000</td>\n",
       "      <td>1</td>\n",
       "    </tr>\n",
       "  </tbody>\n",
       "</table>\n",
       "</div>"
      ],
      "text/plain": [
       "  Company Name     Main Contact  LY Sales  Years of Operation\n",
       "0        Tesla        Elon Musk    325000                   4\n",
       "1       Google    Sundar Pichai    275000                   3\n",
       "2         Meta  Mark Zuckerberg    225000                   5\n",
       "3        Apple         Tim Cook    400000                   2\n",
       "4       Amazon       Jeff Bezos    350000                   1"
      ]
     },
     "execution_count": 4,
     "metadata": {},
     "output_type": "execute_result"
    }
   ],
   "source": [
    "rel_customers"
   ]
  }
 ],
 "metadata": {
  "kernelspec": {
   "display_name": "Python 3.8.10 64-bit",
   "language": "python",
   "name": "python3"
  },
  "language_info": {
   "codemirror_mode": {
    "name": "ipython",
    "version": 3
   },
   "file_extension": ".py",
   "mimetype": "text/x-python",
   "name": "python",
   "nbconvert_exporter": "python",
   "pygments_lexer": "ipython3",
   "version": "3.8.10"
  },
  "orig_nbformat": 4,
  "vscode": {
   "interpreter": {
    "hash": "6e2fa745da440466e3b872fbbee5c44eb729455d9556ff33ae642dc28622471a"
   }
  }
 },
 "nbformat": 4,
 "nbformat_minor": 2
}
