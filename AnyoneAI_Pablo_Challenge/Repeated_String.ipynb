{
 "cells": [
  {
   "cell_type": "code",
   "execution_count": null,
   "metadata": {},
   "outputs": [],
   "source": [
    "# These are the instructions"
   ]
  },
  {
   "cell_type": "code",
   "execution_count": 139,
   "metadata": {},
   "outputs": [],
   "source": [
    "# I am breaking down the challenge in small steps\n",
    "\n",
    "# 1) Here I create an initial function to create a substring\n",
    "\n",
    "def repeatedString_a(s, n):\n",
    "  \n",
    "    for sub in s:\n",
    "        sub = s * n    \n",
    "    return sub"
   ]
  },
  {
   "cell_type": "code",
   "execution_count": 140,
   "metadata": {},
   "outputs": [
    {
     "data": {
      "text/plain": [
       "'abeabeabe'"
      ]
     },
     "execution_count": 140,
     "metadata": {},
     "output_type": "execute_result"
    }
   ],
   "source": [
    "repeatedString_a(\"abe\", 3)"
   ]
  },
  {
   "cell_type": "code",
   "execution_count": 141,
   "metadata": {},
   "outputs": [],
   "source": [
    "# 2) This function counts the characters on the created substring\n",
    "\n",
    "def repeatedString_b(s, n):\n",
    "  \n",
    "    for sub in s:\n",
    "        sub = s * n    \n",
    "    return len(sub)"
   ]
  },
  {
   "cell_type": "code",
   "execution_count": 142,
   "metadata": {},
   "outputs": [
    {
     "data": {
      "text/plain": [
       "9"
      ]
     },
     "execution_count": 142,
     "metadata": {},
     "output_type": "execute_result"
    }
   ],
   "source": [
    "repeatedString_b(\"abe\", 3)"
   ]
  },
  {
   "cell_type": "code",
   "execution_count": 143,
   "metadata": {},
   "outputs": [],
   "source": [
    "# 3) On this function I put the constraints as conditionals\n",
    "\n",
    "def repeatedString_c(s, n):\n",
    "  \n",
    "    for sub in s:\n",
    "        if len(s) <= 100 and n <= 10**8:\n",
    "            sub = s * n\n",
    "            return len(sub)\n",
    "    else:\n",
    "        print(\"Input exceed conditionals\")"
   ]
  },
  {
   "cell_type": "code",
   "execution_count": 144,
   "metadata": {},
   "outputs": [
    {
     "data": {
      "text/plain": [
       "300"
      ]
     },
     "execution_count": 144,
     "metadata": {},
     "output_type": "execute_result"
    }
   ],
   "source": [
    "repeatedString_c(\"abe\", 100)"
   ]
  },
  {
   "cell_type": "code",
   "execution_count": 145,
   "metadata": {},
   "outputs": [],
   "source": [
    "# On this function I count the character \"a\" of the megastring\n",
    "\n",
    "def repeatedString_d(s, n):\n",
    "    mega = (s * n)[:n]    \n",
    "    count = 0\n",
    "\n",
    "    for letter in mega:\n",
    "        if \"a\" in letter:\n",
    "            count += 1\n",
    "    \n",
    "    return count\n"
   ]
  },
  {
   "cell_type": "code",
   "execution_count": 146,
   "metadata": {},
   "outputs": [
    {
     "data": {
      "text/plain": [
       "7"
      ]
     },
     "execution_count": 146,
     "metadata": {},
     "output_type": "execute_result"
    }
   ],
   "source": [
    "repeatedString_d(\"aba\", 10)"
   ]
  },
  {
   "cell_type": "code",
   "execution_count": 3,
   "metadata": {},
   "outputs": [],
   "source": [
    "# I introduced the variable lar, and using math.ceil to round a number being used to multiply the input string\n",
    "\n",
    "from time import time\n",
    "import math\n",
    "\n",
    "def repeatedString_e(s, n):\n",
    "    lar = math.ceil(n/len(s))\n",
    "    mega = (s * lar)[:n]\n",
    "    count = 0\n",
    "\n",
    "    for letter in mega:\n",
    "        if \"a\" in letter:\n",
    "            count += 1\n",
    "    \n",
    "    return count"
   ]
  },
  {
   "cell_type": "code",
   "execution_count": 8,
   "metadata": {},
   "outputs": [
    {
     "name": "stdout",
     "output_type": "stream",
     "text": [
      "9.863736152648926\n"
     ]
    }
   ],
   "source": [
    "a = time()\n",
    "repeatedString_e(\"abaaba\", 100000000)\n",
    "b = time()\n",
    "print(b-a)"
   ]
  },
  {
   "cell_type": "code",
   "execution_count": 7,
   "metadata": {},
   "outputs": [],
   "source": [
    "# Here I am using the operator divisor // and create a variable repeats to show number of repeats\n",
    "\n",
    "def repeatedString_final(s, n):\n",
    "    repeats = n // len(s) + 1\n",
    "    mega_string = s * repeats\n",
    "    mega_string_cut = mega_string[:n]\n",
    "    \n",
    "    count = 0\n",
    "\n",
    "    for letter in mega_string_cut:\n",
    "        if \"a\" in letter:\n",
    "            count += 1\n",
    "    \n",
    "    return count"
   ]
  },
  {
   "cell_type": "code",
   "execution_count": 9,
   "metadata": {},
   "outputs": [
    {
     "data": {
      "text/plain": [
       "1"
      ]
     },
     "execution_count": 9,
     "metadata": {},
     "output_type": "execute_result"
    }
   ],
   "source": [
    "repeatedString_final(\"abaaba\", 10)"
   ]
  },
  {
   "cell_type": "code",
   "execution_count": 17,
   "metadata": {},
   "outputs": [],
   "source": [
    "# Here I am using join\n",
    "\n",
    "def repeatedString_join(s, n):\n",
    "    mega_string_cut = ''.join([ s for n in range(n) ])[:n]\n",
    "\n",
    "    count = 0\n",
    "\n",
    "    for letter in mega_string_cut:\n",
    "        if \"a\" in letter:\n",
    "            count += 1\n",
    "    \n",
    "    return count"
   ]
  },
  {
   "cell_type": "code",
   "execution_count": 18,
   "metadata": {},
   "outputs": [
    {
     "data": {
      "text/plain": [
       "7"
      ]
     },
     "execution_count": 18,
     "metadata": {},
     "output_type": "execute_result"
    }
   ],
   "source": [
    "repeatedString_join(\"abaaba\", 10)"
   ]
  },
  {
   "cell_type": "code",
   "execution_count": 85,
   "metadata": {},
   "outputs": [],
   "source": [
    "# Here I am just multiplying the number of repeats by the number of the a´s in original string\n",
    "# After the calculation I am rounding up with the method \"math.ceil\"\n",
    "\n",
    "import math\n",
    "\n",
    "def repeatedString_ceil(s, n):\n",
    "    repeats = n / len(s)\n",
    "       \n",
    "    count = 0\n",
    "\n",
    "    for letter in s:\n",
    "        if n >= len(s):\n",
    "            if \"a\" in letter:\n",
    "                count += 1\n",
    "            else:\n",
    "                n = len(s)\n",
    "                if \"a\" in letter:\n",
    "                    count += 1\n",
    "                \n",
    "    return math.ceil(count * repeats)"
   ]
  },
  {
   "cell_type": "code",
   "execution_count": 87,
   "metadata": {},
   "outputs": [
    {
     "data": {
      "text/plain": [
       "0"
      ]
     },
     "execution_count": 87,
     "metadata": {},
     "output_type": "execute_result"
    }
   ],
   "source": [
    "repeatedString_ceil(\"abaabaabaaba\", 10)"
   ]
  },
  {
   "cell_type": "code",
   "execution_count": 107,
   "metadata": {},
   "outputs": [],
   "source": [
    "import math\n",
    "\n",
    "def repeatedString_last(s, n):\n",
    "    repeats = n / len(s)\n",
    "       \n",
    "    count = 0\n",
    "\n",
    "    for letter in s:\n",
    "        if \"a\" in letter:\n",
    "            count += 1\n",
    "        \n",
    "    return math.ceil(count * repeats)"
   ]
  },
  {
   "cell_type": "code",
   "execution_count": 108,
   "metadata": {},
   "outputs": [
    {
     "data": {
      "text/plain": [
       "7"
      ]
     },
     "execution_count": 108,
     "metadata": {},
     "output_type": "execute_result"
    }
   ],
   "source": [
    "repeatedString_last(\"aabaabaab\", 10)"
   ]
  }
 ],
 "metadata": {
  "kernelspec": {
   "display_name": "Python 3.8.5 ('base')",
   "language": "python",
   "name": "python3"
  },
  "language_info": {
   "codemirror_mode": {
    "name": "ipython",
    "version": 3
   },
   "file_extension": ".py",
   "mimetype": "text/x-python",
   "name": "python",
   "nbconvert_exporter": "python",
   "pygments_lexer": "ipython3",
   "version": "3.8.5"
  },
  "orig_nbformat": 4,
  "vscode": {
   "interpreter": {
    "hash": "04de321d9ba7c3ac7451b1246f5cbf9ecbcd6f3da2e1ad35996d596917464d7c"
   }
  }
 },
 "nbformat": 4,
 "nbformat_minor": 2
}
