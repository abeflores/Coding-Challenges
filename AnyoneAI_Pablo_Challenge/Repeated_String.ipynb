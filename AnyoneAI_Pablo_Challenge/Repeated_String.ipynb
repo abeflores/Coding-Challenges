{
 "cells": [
  {
   "cell_type": "markdown",
   "metadata": {},
   "source": [
    "![](Repeated_String_1.jpg)\n",
    "![](Repeated_String_2.jpg)"
   ]
  },
  {
   "cell_type": "code",
   "execution_count": 139,
   "metadata": {},
   "outputs": [],
   "source": [
    "# I am breaking down the challenge in small steps\n",
    "\n",
    "# 1) Here I created an initial function to create a substring\n",
    "\n",
    "def repeatedString_a(s, n):\n",
    "    for sub in s:\n",
    "        sub = s * n    \n",
    "    return sub"
   ]
  },
  {
   "cell_type": "code",
   "execution_count": 141,
   "metadata": {},
   "outputs": [],
   "source": [
    "# 2) This function counts the characters on the created substring\n",
    "\n",
    "def repeatedString_b(s, n):\n",
    "    for sub in s:\n",
    "        sub = s * n  \n",
    "    return len(sub)"
   ]
  },
  {
   "cell_type": "code",
   "execution_count": 145,
   "metadata": {},
   "outputs": [],
   "source": [
    "# 3) On this function I count the character \"a\" of the megastring\n",
    "\n",
    "def repeatedString_d(s, n):\n",
    "    mega = (s * n)[:n]    \n",
    "    count = 0\n",
    "\n",
    "    for letter in mega:\n",
    "        if \"a\" in letter:\n",
    "            count += 1\n",
    "    \n",
    "    return count"
   ]
  },
  {
   "cell_type": "code",
   "execution_count": 89,
   "metadata": {},
   "outputs": [],
   "source": [
    "# 4) I introduced the variable lar, and using math.ceil to round a number \n",
    "# This variable is being used to multiply the input string\n",
    "\n",
    "import math\n",
    "\n",
    "def repeatedString_e(s, n):\n",
    "    lar = math.ceil(n/len(s))\n",
    "    mega = (s * lar)[:n]\n",
    "    count = 0\n",
    "\n",
    "    for letter in mega:\n",
    "        if \"a\" in letter:\n",
    "            count += 1\n",
    "    \n",
    "    return count"
   ]
  },
  {
   "cell_type": "code",
   "execution_count": 92,
   "metadata": {},
   "outputs": [],
   "source": [
    "# 5) Here I am using the operator divisor // and create a variable \"repeats\" to show number of repeats\n",
    "\n",
    "def repeatedString_final(s, n):\n",
    "    repeats = n // len(s) + 1\n",
    "    mega_string = s * repeats\n",
    "    mega_string_cut = mega_string[:n]\n",
    "    \n",
    "    count = 0\n",
    "\n",
    "    for letter in mega_string_cut:\n",
    "        if \"a\" in letter:\n",
    "            count += 1\n",
    "    \n",
    "    return count"
   ]
  },
  {
   "cell_type": "code",
   "execution_count": 97,
   "metadata": {},
   "outputs": [],
   "source": [
    "# 6) Here I am multiplying the number of repeats by the number of the a´s in original string\n",
    "# After the calculation I am rounding up with the method \"math.ceil\"\n",
    "\n",
    "import math\n",
    "\n",
    "def repeatedString_ceil(s, n):\n",
    "    repeats = n / len(s)\n",
    "       \n",
    "    count = 0\n",
    "\n",
    "    for letter in s:\n",
    "        if n >= len(s):\n",
    "            if \"a\" in letter:\n",
    "                count += 1\n",
    "            else:\n",
    "                n = len(s)\n",
    "                if \"a\" in letter:\n",
    "                    count += 1\n",
    "                \n",
    "    return math.ceil(count * repeats)"
   ]
  },
  {
   "cell_type": "code",
   "execution_count": 24,
   "metadata": {},
   "outputs": [],
   "source": [
    "# 7) Here I am rounding up final number to calculate how many \"a\" in the final string\n",
    "# This does not work well, as is depending the location of the \"a\" on the original string to be accurate\n",
    "\n",
    "import math\n",
    "\n",
    "def repeatedString_last(s, n):\n",
    "    repeats = n / len(s)\n",
    "    count = 0\n",
    "\n",
    "    for letter in s:\n",
    "        if \"a\" in letter:\n",
    "            count += 1\n",
    "        \n",
    "    return math.ceil(count * repeats)"
   ]
  },
  {
   "cell_type": "code",
   "execution_count": 25,
   "metadata": {},
   "outputs": [
    {
     "data": {
      "text/plain": [
       "63"
      ]
     },
     "execution_count": 25,
     "metadata": {},
     "output_type": "execute_result"
    }
   ],
   "source": [
    "repeatedString_last(\"babaabaa\", 100)"
   ]
  },
  {
   "cell_type": "code",
   "execution_count": 73,
   "metadata": {},
   "outputs": [],
   "source": [
    "def repeatedString_blocks(s, n):\n",
    "\n",
    "    if n >= len(s):\n",
    "        repeats = n // len(s)\n",
    "        count = 0\n",
    "        count_cut = 0\n",
    "        spare = n - (repeats * len(s))\n",
    "        cut_string = s[:spare]\n",
    "        for letter in s:\n",
    "            if \"a\" in letter:\n",
    "                count += 1\n",
    "        for item in cut_string:\n",
    "            if \"a\" in item:\n",
    "                count_cut += 1\n",
    "        return (count * repeats) + count_cut\n",
    "        \n",
    "    else:\n",
    "        count = 0\n",
    "        substring = s[:n]\n",
    "        for let in substring:\n",
    "            if \"a\" in let:\n",
    "                count += 1\n",
    "        return count         "
   ]
  },
  {
   "cell_type": "code",
   "execution_count": 86,
   "metadata": {},
   "outputs": [
    {
     "data": {
      "text/plain": [
       "5"
      ]
     },
     "execution_count": 86,
     "metadata": {},
     "output_type": "execute_result"
    }
   ],
   "source": [
    "repeatedString_blocks(\"bababababa\", 10)"
   ]
  }
 ],
 "metadata": {
  "kernelspec": {
   "display_name": "Python 3.8.5 ('base')",
   "language": "python",
   "name": "python3"
  },
  "language_info": {
   "codemirror_mode": {
    "name": "ipython",
    "version": 3
   },
   "file_extension": ".py",
   "mimetype": "text/x-python",
   "name": "python",
   "nbconvert_exporter": "python",
   "pygments_lexer": "ipython3",
   "version": "3.8.5"
  },
  "orig_nbformat": 4,
  "vscode": {
   "interpreter": {
    "hash": "04de321d9ba7c3ac7451b1246f5cbf9ecbcd6f3da2e1ad35996d596917464d7c"
   }
  }
 },
 "nbformat": 4,
 "nbformat_minor": 2
}
