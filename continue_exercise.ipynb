{
 "cells": [
  {
   "cell_type": "code",
   "execution_count": 87,
   "metadata": {},
   "outputs": [],
   "source": [
    "arr = [800,900,1100,700,500,1000,300,400,200,1200]\n",
    "\n",
    "def count_transactions(arr):\n",
    "    count = 0\n",
    "\n",
    "    for i in arr:\n",
    "        if i >= 1000:\n",
    "            count = count + 1\n",
    "            continue\n",
    "    print(f\"number of $1K+ transactions found: {count}\")"
   ]
  },
  {
   "cell_type": "code",
   "execution_count": 88,
   "metadata": {},
   "outputs": [
    {
     "name": "stdout",
     "output_type": "stream",
     "text": [
      "number of $1K+ transactions found: 3\n"
     ]
    }
   ],
   "source": [
    "count_transactions(arr)"
   ]
  },
  {
   "cell_type": "code",
   "execution_count": 90,
   "metadata": {},
   "outputs": [
    {
     "name": "stdout",
     "output_type": "stream",
     "text": [
      "number of $1K+ transactions found: 3\n"
     ]
    }
   ],
   "source": [
    "def count_transactions1(arr):\n",
    "    count = len([i for i in arr if i >= 1000])\n",
    "    return count\n",
    "            \n",
    "print(f\"number of $1K+ transactions found: {count_transactions1(arr)}\")"
   ]
  }
 ],
 "metadata": {
  "kernelspec": {
   "display_name": "Python 3.8.5 ('base')",
   "language": "python",
   "name": "python3"
  },
  "language_info": {
   "codemirror_mode": {
    "name": "ipython",
    "version": 3
   },
   "file_extension": ".py",
   "mimetype": "text/x-python",
   "name": "python",
   "nbconvert_exporter": "python",
   "pygments_lexer": "ipython3",
   "version": "3.8.5"
  },
  "orig_nbformat": 4,
  "vscode": {
   "interpreter": {
    "hash": "04de321d9ba7c3ac7451b1246f5cbf9ecbcd6f3da2e1ad35996d596917464d7c"
   }
  }
 },
 "nbformat": 4,
 "nbformat_minor": 2
}
